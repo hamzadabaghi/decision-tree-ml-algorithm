{
 "cells": [
  {
   "cell_type": "code",
   "execution_count": 1,
   "metadata": {},
   "outputs": [],
   "source": [
    "\n",
    "import numpy as np\n",
    "import cv2\n",
    "import os\n",
    "import pandas as pd\n",
    "import math\n",
    "import matplotlib.pyplot as plt\n",
    "import array as arr\n",
    "import sklearn.tree as tree\n",
    "from sklearn.ensemble import RandomForestClassifier\n",
    "from sklearn.ensemble import GradientBoostingClassifier\n",
    "import glob\n"
   ]
  },
  {
   "cell_type": "code",
   "execution_count": 2,
   "metadata": {},
   "outputs": [],
   "source": [
    "\n",
    "data = []\n",
    "def get_images():\n",
    "    for j in range(0,10):\n",
    "        for i in range(1, 61):\n",
    "            image = cv2.imread(\"./\" + str(j) + \"/img (\" + str(i) + \").jpg\",0)\n",
    "            (thresh, im_bw) = cv2.threshold(image, 128, 1, cv2.THRESH_BINARY )\n",
    "            a = np.array(im_bw)\n",
    "            data.append(a.flatten())\n",
    "    return data\n"
   ]
  },
  {
   "cell_type": "code",
   "execution_count": 3,
   "metadata": {},
   "outputs": [],
   "source": [
    "\n",
    "Vect = get_images()\n",
    "\n",
    "model_DT = tree.DecisionTreeClassifier()\n",
    "model_RF = RandomForestClassifier()\n",
    "model_GB = GradientBoostingClassifier()\n"
   ]
  },
  {
   "cell_type": "code",
   "execution_count": 4,
   "metadata": {
    "scrolled": false
   },
   "outputs": [
    {
     "data": {
      "text/plain": [
       "GradientBoostingClassifier()"
      ]
     },
     "execution_count": 4,
     "metadata": {},
     "output_type": "execute_result"
    }
   ],
   "source": [
    "\n",
    "v = [[j for i in range(1,61)] for j in range(0,10)] \n",
    "model_DT.fit(Vect, np.ravel(v))\n",
    "model_RF.fit(Vect, np.ravel(v))\n",
    "model_GB.fit(Vect, np.ravel(v))\n"
   ]
  },
  {
   "cell_type": "code",
   "execution_count": 5,
   "metadata": {
    "scrolled": false
   },
   "outputs": [
    {
     "name": "stdout",
     "output_type": "stream",
     "text": [
      "the decision tree learning rate : 100.0%\n",
      "the random forest learning rate : 100.0%\n",
      "the gradient boosting learning rate : 100.0%\n"
     ]
    }
   ],
   "source": [
    "\n",
    "#tree.plot_tree(model_DT)\n",
    "print(\"the decision tree learning rate : \"+ str(model_DT.score( Vect,np.ravel(v))*100)+\"%\")\n",
    "print(\"the random forest learning rate : \"+ str(model_RF.score( Vect,np.ravel(v))*100)+\"%\")\n",
    "print(\"the gradient boosting learning rate : \"+ str(model_GB.score( Vect,np.ravel(v))*100)+\"%\")\n"
   ]
  },
  {
   "cell_type": "code",
   "execution_count": 6,
   "metadata": {},
   "outputs": [],
   "source": [
    "\n",
    "image = cv2.imread(\"./testSample/F_t_6 (8).jpg\",0)\n",
    "(thresh, im_bw) = cv2.threshold(image, 128, 1, cv2.THRESH_BINARY )\n",
    "a = np.array(im_bw)\n",
    "data.append([a.flatten()])\n"
   ]
  },
  {
   "cell_type": "code",
   "execution_count": 7,
   "metadata": {},
   "outputs": [],
   "source": [
    "\n",
    "predictionDT = model_DT.predict([a.flatten()])\n",
    "predictionFT = model_RF.predict([a.flatten()])\n",
    "predictionGB = model_GB.predict([a.flatten()])\n"
   ]
  },
  {
   "cell_type": "code",
   "execution_count": 8,
   "metadata": {},
   "outputs": [
    {
     "name": "stdout",
     "output_type": "stream",
     "text": [
      "[6]\n",
      "[6]\n",
      "[6]\n"
     ]
    }
   ],
   "source": [
    "\n",
    "print(predictionDT)\n",
    "print(predictionFT)\n",
    "print(predictionGB)\n"
   ]
  },
  {
   "cell_type": "code",
   "execution_count": 9,
   "metadata": {
    "scrolled": true
   },
   "outputs": [],
   "source": [
    "\n",
    "test_X=[]\n",
    "test_Y=[]\n",
    "for imagePath in glob.glob(\"./testSample\"+\"/*.jpg\"):\n",
    "    image = cv2.imread(imagePath,0)\n",
    "    (thresh, im_bw) = cv2.threshold(image, 128, 1, cv2.THRESH_BINARY )\n",
    "    a = np.array(im_bw)\n",
    "    test_X.append(a.flatten())\n",
    "    test_Y.append(int(imagePath[17:19]))\n",
    "    "
   ]
  },
  {
   "cell_type": "code",
   "execution_count": 11,
   "metadata": {},
   "outputs": [
    {
     "name": "stdout",
     "output_type": "stream",
     "text": [
      "DecisionTreeClassifier test rate : 65.66666666666666%\n",
      "RandomForestClassifier test rate : 84.66666666666667%\n",
      "GradientBoostingClassifier test rate :80.33333333333333%\n"
     ]
    }
   ],
   "source": [
    "\n",
    "print(\"DecisionTreeClassifier test rate : \"+str(model_DT.score( test_X,test_Y )*100)+\"%\")\n",
    "print(\"RandomForestClassifier test rate : \" + str(model_RF.score( test_X,test_Y )*100)+\"%\")\n",
    "print(\"GradientBoostingClassifier test rate :\" + str(model_GB.score( test_X,test_Y )*100)+\"%\")\n"
   ]
  },
  {
   "cell_type": "code",
   "execution_count": null,
   "metadata": {},
   "outputs": [],
   "source": []
  }
 ],
 "metadata": {
  "kernelspec": {
   "display_name": "Python 3",
   "language": "python",
   "name": "python3"
  },
  "language_info": {
   "codemirror_mode": {
    "name": "ipython",
    "version": 3
   },
   "file_extension": ".py",
   "mimetype": "text/x-python",
   "name": "python",
   "nbconvert_exporter": "python",
   "pygments_lexer": "ipython3",
   "version": "3.8.0"
  }
 },
 "nbformat": 4,
 "nbformat_minor": 4
}
